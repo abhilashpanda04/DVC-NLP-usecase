{
 "cells": [
  {
   "cell_type": "code",
   "execution_count": 4,
   "metadata": {},
   "outputs": [],
   "source": [
    "import urllib.request as request\n",
    "source_data_url=r'https://drive.google.com/uc?export=download&confirm=9_s_&id=1A59dnUwOgG3CXbq-ni2cykd7yZxaYTqH'\n",
    "local_data_dir=r'/Users/abhi/Desktop/abhilash/development/sample_data/data.xml'\n",
    "filename,headers=request.urlretrieve(source_data_url,local_data_dir)"
   ]
  }
 ],
 "metadata": {
  "kernelspec": {
   "display_name": "Python 3.8.13",
   "language": "python",
   "name": "python3"
  },
  "language_info": {
   "codemirror_mode": {
    "name": "ipython",
    "version": 3
   },
   "file_extension": ".py",
   "mimetype": "text/x-python",
   "name": "python",
   "nbconvert_exporter": "python",
   "pygments_lexer": "ipython3",
   "version": "3.8.13"
  },
  "orig_nbformat": 4,
  "vscode": {
   "interpreter": {
    "hash": "edf44ec45923aad339369eb14c8f3a4756b176f278e05d39d23a2fe3f402673e"
   }
  }
 },
 "nbformat": 4,
 "nbformat_minor": 2
}
